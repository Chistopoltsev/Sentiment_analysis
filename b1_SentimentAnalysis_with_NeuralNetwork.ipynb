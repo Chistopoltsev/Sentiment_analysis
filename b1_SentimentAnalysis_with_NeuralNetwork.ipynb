{
 "cells": [
  {
   "cell_type": "code",
   "execution_count": 4,
   "metadata": {
    "id": "W-vpR9QCOn2i"
   },
   "outputs": [],
   "source": [
    "import pandas as pd\n",
    "import numpy as np\n",
    "import re\n",
    "import nltk\n",
    "from nltk.corpus import stopwords\n",
    "from numpy import array\n",
    "import tensorflow as tf"
   ]
  },
  {
   "cell_type": "code",
   "execution_count": 5,
   "metadata": {},
   "outputs": [],
   "source": [
    "from keras.preprocessing.text import one_hot, Tokenizer\n",
    "from keras.models import Sequential\n",
    "from keras.layers import Activation, Dropout, Dense\n",
    "from keras.layers import Flatten, GlobalMaxPooling1D, Embedding, Conv1D, LSTM\n",
    "from sklearn.model_selection import train_test_split"
   ]
  },
  {
   "cell_type": "code",
   "execution_count": 6,
   "metadata": {},
   "outputs": [],
   "source": [
    "from keras_preprocessing.sequence import pad_sequences"
   ]
  },
  {
   "cell_type": "markdown",
   "metadata": {
    "id": "q6FO9rxjxHe_"
   },
   "source": [
    "## Loading dataset"
   ]
  },
  {
   "cell_type": "code",
   "execution_count": 7,
   "metadata": {
    "id": "sNL6yy_DO0n1"
   },
   "outputs": [],
   "source": [
    "# Importing IMDb Movie Reviews dataset\n",
    "\n",
    "movie_reviews = pd.read_csv(\"a1_IMDB_Dataset.csv\")"
   ]
  },
  {
   "cell_type": "markdown",
   "metadata": {
    "id": "IAVIsg26PVZC"
   },
   "source": [
    "## Data Preprocessing"
   ]
  },
  {
   "cell_type": "code",
   "execution_count": 12,
   "metadata": {
    "colab": {
     "base_uri": "https://localhost:8080/",
     "height": 122
    },
    "executionInfo": {
     "elapsed": 7,
     "status": "ok",
     "timestamp": 1658849654826,
     "user": {
      "displayName": "Skillcate Education",
      "userId": "11062674699417926870"
     },
     "user_tz": -330
    },
    "id": "PJ6a6aKjPORv",
    "outputId": "d4c23272-ac55-4b30-b2ce-51cf361f4e77"
   },
   "outputs": [
    {
     "data": {
      "text/plain": [
       "'I thought this was a wonderful way to spend time on a too hot summer weekend, sitting in the air conditioned theater and watching a light-hearted comedy. The plot is simplistic, but the dialogue is witty and the characters are likable (even the well bread suspected serial killer). While some may be disappointed when they realize this is not Match Point 2: Risk Addiction, I thought it was proof that Woody Allen is still fully in control of the style many of us have grown to love.<br /><br />This was the most I\\'d laughed at one of Woody\\'s comedies in years (dare I say a decade?). While I\\'ve never been impressed with Scarlet Johanson, in this she managed to tone down her \"sexy\" image and jumped right into a average, but spirited young woman.<br /><br />This may not be the crown jewel of his career, but it was wittier than \"Devil Wears Prada\" and more interesting than \"Superman\" a great comedy to go see with friends.'"
      ]
     },
     "execution_count": 12,
     "metadata": {},
     "output_type": "execute_result"
    }
   ],
   "source": [
    "movie_reviews[\"review\"][2]"
   ]
  },
  {
   "cell_type": "code",
   "execution_count": 13,
   "metadata": {},
   "outputs": [],
   "source": [
    "# import b2_preprocessing_function\n",
    "from b2_preprocessing_function import CustomPreprocess"
   ]
  },
  {
   "cell_type": "code",
   "execution_count": 14,
   "metadata": {},
   "outputs": [
    {
     "data": {
      "text/plain": [
       "'best days life '"
      ]
     },
     "execution_count": 14,
     "metadata": {},
     "output_type": "execute_result"
    }
   ],
   "source": [
    "custom = CustomPreprocess()\n",
    "custom.preprocess_text(\"Those were the best days of my life!\")"
   ]
  },
  {
   "cell_type": "code",
   "execution_count": 18,
   "metadata": {
    "id": "GPSBPltpQDPp"
   },
   "outputs": [],
   "source": [
    "# Calling preprocessing_text function on movie_reviews\n",
    "\n",
    "X = []\n",
    "sentences = list(movie_reviews['review'])\n",
    "for sen in sentences:\n",
    "    X.append(custom.preprocess_text(sen))"
   ]
  },
  {
   "cell_type": "code",
   "execution_count": 19,
   "metadata": {},
   "outputs": [
    {
     "data": {
      "text/plain": [
       "'thought wonderful way spend time hot summer weekend sitting air conditioned theater watching light hearted comedy plot simplistic dialogue witty characters likable even well bread suspected serial killer may disappointed realize match point risk addiction thought proof woody allen still fully control style many us grown love laughed one woody comedies years dare say decade never impressed scarlet johanson managed tone sexy image jumped right average spirited young woman may crown jewel career wittier devil wears prada interesting superman great comedy go see friends '"
      ]
     },
     "execution_count": 19,
     "metadata": {},
     "output_type": "execute_result"
    }
   ],
   "source": [
    "# Sample cleaned up movie review \n",
    "\n",
    "X[2]"
   ]
  },
  {
   "cell_type": "code",
   "execution_count": 20,
   "metadata": {
    "id": "-EKC4DJTQKsB"
   },
   "outputs": [],
   "source": [
    "# Converting sentiment labels to 0 & 1\n",
    "\n",
    "y = movie_reviews['sentiment']\n",
    "\n",
    "y = np.array(list(map(lambda x: 1 if x==\"positive\" else 0, y)))"
   ]
  },
  {
   "cell_type": "code",
   "execution_count": 21,
   "metadata": {
    "id": "UZPyxSQVQPT_"
   },
   "outputs": [],
   "source": [
    "X_train, X_test, y_train, y_test = train_test_split(X, y, test_size=0.20, random_state=42)\n",
    "\n",
    "# The train set will be used to train our deep learning models \n",
    "# while test set will be used to evaluate how well our model performs "
   ]
  },
  {
   "cell_type": "markdown",
   "metadata": {
    "id": "FsF3k9QbQc5q"
   },
   "source": [
    "## Preparing embedding layer"
   ]
  },
  {
   "cell_type": "code",
   "execution_count": 22,
   "metadata": {
    "id": "kZ5kWzGKeAgc"
   },
   "outputs": [],
   "source": [
    "word_tokenizer = Tokenizer()\n",
    "word_tokenizer.fit_on_texts(X_train)\n",
    "\n",
    "X_train = word_tokenizer.texts_to_sequences(X_train)\n",
    "X_test = word_tokenizer.texts_to_sequences(X_test)"
   ]
  },
  {
   "cell_type": "code",
   "execution_count": 23,
   "metadata": {},
   "outputs": [],
   "source": [
    "import io\n",
    "import json"
   ]
  },
  {
   "cell_type": "code",
   "execution_count": 24,
   "metadata": {},
   "outputs": [],
   "source": [
    "# Saving\n",
    "tokenizer_json = word_tokenizer.to_json()\n",
    "with io.open('b3_tokenizer.json', 'w', encoding='utf-8') as f:\n",
    "    f.write(json.dumps(tokenizer_json, ensure_ascii=False))"
   ]
  },
  {
   "cell_type": "code",
   "execution_count": 25,
   "metadata": {
    "colab": {
     "base_uri": "https://localhost:8080/"
    },
    "executionInfo": {
     "elapsed": 25,
     "status": "ok",
     "timestamp": 1658849689767,
     "user": {
      "displayName": "Skillcate Education",
      "userId": "11062674699417926870"
     },
     "user_tz": -330
    },
    "id": "vn-Rj21reKVm",
    "outputId": "8bda9c62-df83-4e8e-c9af-d5f7ab98537e"
   },
   "outputs": [
    {
     "data": {
      "text/plain": [
       "92394"
      ]
     },
     "execution_count": 25,
     "metadata": {},
     "output_type": "execute_result"
    }
   ],
   "source": [
    "vocab_length = len(word_tokenizer.word_index) + 1\n",
    "\n",
    "vocab_length"
   ]
  },
  {
   "cell_type": "code",
   "execution_count": 26,
   "metadata": {
    "id": "9-QqBAR0hz22"
   },
   "outputs": [],
   "source": [
    "# Padding all reviews to fixed length 100\n",
    "\n",
    "maxlen = 100\n",
    "\n",
    "X_train = pad_sequences(X_train, padding='post', maxlen=maxlen)\n",
    "X_test = pad_sequences(X_test, padding='post', maxlen=maxlen)"
   ]
  },
  {
   "cell_type": "code",
   "execution_count": 27,
   "metadata": {
    "id": "VH4uFszlRGPk"
   },
   "outputs": [],
   "source": [
    "# Load GloVe word embeddings and create an Embeddings Dictionary\n",
    "\n",
    "from numpy import asarray\n",
    "from numpy import zeros\n",
    "\n",
    "embeddings_dictionary = dict()\n",
    "glove_file = open('a2_glove.6B.100d.txt', encoding=\"utf8\")\n",
    "\n",
    "for line in glove_file:\n",
    "    records = line.split()\n",
    "    word = records[0]\n",
    "    vector_dimensions = asarray(records[1:], dtype='float32')\n",
    "    embeddings_dictionary [word] = vector_dimensions\n",
    "glove_file.close()"
   ]
  },
  {
   "cell_type": "code",
   "execution_count": 28,
   "metadata": {
    "id": "ZN6SP61FSDZB"
   },
   "outputs": [],
   "source": [
    "# Create Embedding Matrix having 100 columns \n",
    "# Containing 100-dimensional GloVe word embeddings for all words in our corpus.\n",
    "\n",
    "embedding_matrix = zeros((vocab_length, 100))\n",
    "for word, index in word_tokenizer.word_index.items():\n",
    "    embedding_vector = embeddings_dictionary.get(word)\n",
    "    if embedding_vector is not None:\n",
    "        embedding_matrix[index] = embedding_vector"
   ]
  },
  {
   "cell_type": "code",
   "execution_count": 29,
   "metadata": {
    "colab": {
     "base_uri": "https://localhost:8080/"
    },
    "executionInfo": {
     "elapsed": 25,
     "status": "ok",
     "timestamp": 1658849701214,
     "user": {
      "displayName": "Skillcate Education",
      "userId": "11062674699417926870"
     },
     "user_tz": -330
    },
    "id": "fjwFEeCmiAPo",
    "outputId": "2507711f-fcb8-4c89-f912-28512bdb476c"
   },
   "outputs": [
    {
     "data": {
      "text/plain": [
       "(92394, 100)"
      ]
     },
     "execution_count": 29,
     "metadata": {},
     "output_type": "execute_result"
    }
   ],
   "source": [
    "embedding_matrix.shape"
   ]
  },
  {
   "cell_type": "markdown",
   "metadata": {
    "id": "2QTts_XPS1Wn"
   },
   "source": [
    "## Recurrent Neural Network (LSTM)"
   ]
  },
  {
   "cell_type": "code",
   "execution_count": 44,
   "metadata": {
    "id": "1iLtWqoMVwU5"
   },
   "outputs": [],
   "source": [
    "from keras.layers import LSTM"
   ]
  },
  {
   "cell_type": "code",
   "execution_count": 45,
   "metadata": {
    "id": "0ccqZ-8kS2el"
   },
   "outputs": [],
   "source": [
    "# Neural Network architecture\n",
    "\n",
    "lstm_model = Sequential()\n",
    "embedding_layer = Embedding(vocab_length, 100, weights=[embedding_matrix], input_length=maxlen , trainable=False)\n",
    "\n",
    "lstm_model.add(embedding_layer)\n",
    "lstm_model.add(LSTM(128))\n",
    "\n",
    "lstm_model.add(Dense(1, activation='sigmoid'))"
   ]
  },
  {
   "cell_type": "code",
   "execution_count": 46,
   "metadata": {
    "colab": {
     "base_uri": "https://localhost:8080/"
    },
    "executionInfo": {
     "elapsed": 15,
     "status": "ok",
     "timestamp": 1658849861395,
     "user": {
      "displayName": "Skillcate Education",
      "userId": "11062674699417926870"
     },
     "user_tz": -330
    },
    "id": "Zk00Ss9HS68g",
    "outputId": "efcccbd5-f0b8-499a-c9e4-6c1318445699"
   },
   "outputs": [
    {
     "name": "stdout",
     "output_type": "stream",
     "text": [
      "Model: \"sequential_2\"\n",
      "_________________________________________________________________\n",
      " Layer (type)                Output Shape              Param #   \n",
      "=================================================================\n",
      " embedding_2 (Embedding)     (None, 100, 100)          9239400   \n",
      "                                                                 \n",
      " lstm (LSTM)                 (None, 128)               117248    \n",
      "                                                                 \n",
      " dense_2 (Dense)             (None, 1)                 129       \n",
      "                                                                 \n",
      "=================================================================\n",
      "Total params: 9356777 (35.69 MB)\n",
      "Trainable params: 117377 (458.50 KB)\n",
      "Non-trainable params: 9239400 (35.25 MB)\n",
      "_________________________________________________________________\n",
      "None\n"
     ]
    }
   ],
   "source": [
    "# Model compiling\n",
    "\n",
    "lstm_model.compile(optimizer='adam', loss='binary_crossentropy', metrics=['acc'])\n",
    "print(lstm_model.summary())"
   ]
  },
  {
   "cell_type": "code",
   "execution_count": 47,
   "metadata": {
    "colab": {
     "base_uri": "https://localhost:8080/"
    },
    "executionInfo": {
     "elapsed": 503790,
     "status": "ok",
     "timestamp": 1658850365177,
     "user": {
      "displayName": "Skillcate Education",
      "userId": "11062674699417926870"
     },
     "user_tz": -330
    },
    "id": "QMhhaZUaS9jF",
    "outputId": "e5053dcc-35a9-4a3e-92bb-3515795ee0c7"
   },
   "outputs": [
    {
     "name": "stdout",
     "output_type": "stream",
     "text": [
      "Epoch 1/6\n",
      "250/250 [==============================] - 78s 306ms/step - loss: 0.5116 - acc: 0.7461 - val_loss: 0.4265 - val_acc: 0.8152\n",
      "Epoch 2/6\n",
      "250/250 [==============================] - 86s 345ms/step - loss: 0.4190 - acc: 0.8131 - val_loss: 0.3811 - val_acc: 0.8338\n",
      "Epoch 3/6\n",
      "250/250 [==============================] - 86s 344ms/step - loss: 0.3736 - acc: 0.8391 - val_loss: 0.3572 - val_acc: 0.8418\n",
      "Epoch 4/6\n",
      "250/250 [==============================] - 85s 339ms/step - loss: 0.3423 - acc: 0.8542 - val_loss: 0.3528 - val_acc: 0.8550\n",
      "Epoch 5/6\n",
      "250/250 [==============================] - 79s 318ms/step - loss: 0.3213 - acc: 0.8642 - val_loss: 0.3212 - val_acc: 0.8641\n",
      "Epoch 6/6\n",
      "250/250 [==============================] - 83s 334ms/step - loss: 0.2986 - acc: 0.8759 - val_loss: 0.3908 - val_acc: 0.8253\n"
     ]
    }
   ],
   "source": [
    "# Model Training\n",
    "\n",
    "lstm_model_history = lstm_model.fit(X_train, y_train, batch_size=128, epochs=6, verbose=1, validation_split=0.2)"
   ]
  },
  {
   "cell_type": "code",
   "execution_count": 48,
   "metadata": {
    "colab": {
     "base_uri": "https://localhost:8080/"
    },
    "executionInfo": {
     "elapsed": 20819,
     "status": "ok",
     "timestamp": 1658850385975,
     "user": {
      "displayName": "Skillcate Education",
      "userId": "11062674699417926870"
     },
     "user_tz": -330
    },
    "id": "w7il9EjzlAaR",
    "outputId": "dba86dd6-0380-4a7e-c592-cd9815155ab4"
   },
   "outputs": [
    {
     "name": "stdout",
     "output_type": "stream",
     "text": [
      "313/313 [==============================] - 6s 20ms/step - loss: 0.3921 - acc: 0.8244\n"
     ]
    }
   ],
   "source": [
    "# Predictions on the Test Set\n",
    "\n",
    "score = lstm_model.evaluate(X_test, y_test, verbose=1)"
   ]
  },
  {
   "cell_type": "code",
   "execution_count": 49,
   "metadata": {
    "colab": {
     "base_uri": "https://localhost:8080/"
    },
    "executionInfo": {
     "elapsed": 9,
     "status": "ok",
     "timestamp": 1658850385977,
     "user": {
      "displayName": "Skillcate Education",
      "userId": "11062674699417926870"
     },
     "user_tz": -330
    },
    "id": "6j71n54zS9mc",
    "outputId": "f5c2d7be-beb5-47cb-8c1b-7db2784c2f66"
   },
   "outputs": [
    {
     "name": "stdout",
     "output_type": "stream",
     "text": [
      "Test Score: 0.39214351773262024\n",
      "Test Accuracy: 0.824400007724762\n"
     ]
    }
   ],
   "source": [
    "# Model Performance\n",
    "\n",
    "print(\"Test Score:\", score[0])\n",
    "print(\"Test Accuracy:\", score[1])"
   ]
  },
  {
   "cell_type": "code",
   "execution_count": 50,
   "metadata": {
    "colab": {
     "base_uri": "https://localhost:8080/",
     "height": 573
    },
    "executionInfo": {
     "elapsed": 7,
     "status": "ok",
     "timestamp": 1658850385977,
     "user": {
      "displayName": "Skillcate Education",
      "userId": "11062674699417926870"
     },
     "user_tz": -330
    },
    "id": "LiibO1EuS9qB",
    "outputId": "a7691b0a-4eba-42c2-f934-a74d8bde2c7d"
   },
   "outputs": [
    {
     "data": {
      "image/png": "[encoded data removed]",
      "text/plain": [
       "<Figure size 640x480 with 1 Axes>"
      ]
     },
     "metadata": {},
     "output_type": "display_data"
    },
    {
     "data": {
      "image/png": "[encoded data removed]",
      "text/plain": [
       "<Figure size 640x480 with 1 Axes>"
      ]
     },
     "metadata": {},
     "output_type": "display_data"
    }
   ],
   "source": [
    "# Model Performance Charts\n",
    "\n",
    "import matplotlib.pyplot as plt\n",
    "\n",
    "plt.plot(lstm_model_history.history['acc'])\n",
    "plt.plot(lstm_model_history.history['val_acc'])\n",
    "\n",
    "plt.title('model accuracy')\n",
    "plt.ylabel('accuracy')\n",
    "plt.xlabel('epoch')\n",
    "plt.legend(['train','test'], loc='upper left')\n",
    "plt.show()\n",
    "\n",
    "plt.plot(lstm_model_history.history['loss'])\n",
    "plt.plot(lstm_model_history.history['val_loss'])\n",
    "\n",
    "plt.title('model loss')\n",
    "plt.ylabel('loss')\n",
    "plt.xlabel('epoch')\n",
    "plt.legend(['train','test'], loc='upper left')\n",
    "plt.show()"
   ]
  },
  {
   "cell_type": "code",
   "execution_count": 51,
   "metadata": {
    "id": "YwXAHNsnnSdw"
   },
   "outputs": [
    {
     "name": "stderr",
     "output_type": "stream",
     "text": [
      "D:\\Dev\\Python\\Lib\\site-packages\\keras\\src\\engine\\training.py:3000: UserWarning: You are saving your model as an HDF5 file via `model.save()`. This file format is considered legacy. We recommend using instead the native Keras format, e.g. `model.save('my_model.keras')`.\n",
      "  saving_api.save_model(\n"
     ]
    }
   ],
   "source": [
    "# Saving the model as a h5 file for possible use later\n",
    "\n",
    "lstm_model.save(f\"./c1_lstm_model_acc_{round(score[1], 3)}.h5\", save_format='h5')"
   ]
  },
  {
   "cell_type": "markdown",
   "metadata": {
    "id": "CF77MN1uTHbG"
   },
   "source": [
    "# Making Predictions on Live IMDb data"
   ]
  },
  {
   "cell_type": "code",
   "execution_count": 52,
   "metadata": {
    "colab": {
     "base_uri": "https://localhost:8080/"
    },
    "executionInfo": {
     "elapsed": 1007,
     "status": "ok",
     "timestamp": 1658850386979,
     "user": {
      "displayName": "Skillcate Education",
      "userId": "11062674699417926870"
     },
     "user_tz": -330
    },
    "id": "0i2Qws60ogQY",
    "outputId": "84217dba-bcce-48b6-f481-92f315e59c4e"
   },
   "outputs": [
    {
     "data": {
      "text/plain": [
       "'D:\\\\projects\\\\jupyter\\\\!sentiment-analysis-with-deep-neural-networks-main'"
      ]
     },
     "execution_count": 52,
     "metadata": {},
     "output_type": "execute_result"
    }
   ],
   "source": [
    "pwd # lists files in working directory"
   ]
  },
  {
   "cell_type": "code",
   "execution_count": 53,
   "metadata": {
    "id": "4QV-OXuvtpLr"
   },
   "outputs": [
    {
     "name": "stdout",
     "output_type": "stream",
     "text": [
      "Model: \"sequential_2\"\n",
      "_________________________________________________________________\n",
      " Layer (type)                Output Shape              Param #   \n",
      "=================================================================\n",
      " embedding_2 (Embedding)     (None, 100, 100)          9239400   \n",
      "                                                                 \n",
      " lstm (LSTM)                 (None, 128)               117248    \n",
      "                                                                 \n",
      " dense_2 (Dense)             (None, 1)                 129       \n",
      "                                                                 \n",
      "=================================================================\n",
      "Total params: 9356777 (35.69 MB)\n",
      "Trainable params: 117377 (458.50 KB)\n",
      "Non-trainable params: 9239400 (35.25 MB)\n",
      "_________________________________________________________________\n"
     ]
    }
   ],
   "source": [
    "# Load previously trained LSTM Model\n",
    "\n",
    "from keras.models import load_model\n",
    "\n",
    "model_path ='c1_lstm_model_acc_0.861.h5'\n",
    "pretrained_lstm_model = load_model(model_path)\n",
    "\n",
    "# summarize model.\n",
    "pretrained_lstm_model.summary()"
   ]
  },
  {
   "cell_type": "code",
   "execution_count": 54,
   "metadata": {
    "colab": {
     "base_uri": "https://localhost:8080/",
     "height": 238
    },
    "executionInfo": {
     "elapsed": 1079,
     "status": "ok",
     "timestamp": 1658850389197,
     "user": {
      "displayName": "Skillcate Education",
      "userId": "11062674699417926870"
     },
     "user_tz": -330
    },
    "id": "qZiniS4-guUR",
    "outputId": "3957e1b5-3ca7-4e58-c8ba-4385504762a3"
   },
   "outputs": [
    {
     "data": {
      "text/html": [
       "<div>\n",
       "<style scoped>\n",
       "    .dataframe tbody tr th:only-of-type {\n",
       "        vertical-align: middle;\n",
       "    }\n",
       "\n",
       "    .dataframe tbody tr th {\n",
       "        vertical-align: top;\n",
       "    }\n",
       "\n",
       "    .dataframe thead th {\n",
       "        text-align: right;\n",
       "    }\n",
       "</style>\n",
       "<table border=\"1\" class=\"dataframe\">\n",
       "  <thead>\n",
       "    <tr style=\"text-align: right;\">\n",
       "      <th></th>\n",
       "      <th>Unnamed: 0</th>\n",
       "      <th>Movie</th>\n",
       "      <th>Review Text</th>\n",
       "      <th>IMDb Rating</th>\n",
       "    </tr>\n",
       "  </thead>\n",
       "  <tbody>\n",
       "    <tr>\n",
       "      <th>0</th>\n",
       "      <td>0</td>\n",
       "      <td>Ex Machina</td>\n",
       "      <td>Intelligent Movie.\\nThis movie is obviously al...</td>\n",
       "      <td>9</td>\n",
       "    </tr>\n",
       "    <tr>\n",
       "      <th>1</th>\n",
       "      <td>1</td>\n",
       "      <td>Ex Machina</td>\n",
       "      <td>Extraordinary and thought-provoking.\\n'Ex mach...</td>\n",
       "      <td>10</td>\n",
       "    </tr>\n",
       "    <tr>\n",
       "      <th>2</th>\n",
       "      <td>2</td>\n",
       "      <td>Ex Machina</td>\n",
       "      <td>Poor story, only reasonable otherwise.\\nIf I h...</td>\n",
       "      <td>3</td>\n",
       "    </tr>\n",
       "    <tr>\n",
       "      <th>3</th>\n",
       "      <td>3</td>\n",
       "      <td>Ex Machina</td>\n",
       "      <td>Had Great Potential.\\nThis movie is one of the...</td>\n",
       "      <td>1</td>\n",
       "    </tr>\n",
       "    <tr>\n",
       "      <th>4</th>\n",
       "      <td>4</td>\n",
       "      <td>Eternals</td>\n",
       "      <td>Amazing visuals and philosophical concepts!\\n\\...</td>\n",
       "      <td>10</td>\n",
       "    </tr>\n",
       "    <tr>\n",
       "      <th>5</th>\n",
       "      <td>5</td>\n",
       "      <td>Eternals</td>\n",
       "      <td>Worst MCU film ever\\n\\nFollowing the events of...</td>\n",
       "      <td>3</td>\n",
       "    </tr>\n",
       "  </tbody>\n",
       "</table>\n",
       "</div>"
      ],
      "text/plain": [
       "   Unnamed: 0       Movie                                        Review Text  \\\n",
       "0           0  Ex Machina  Intelligent Movie.\\nThis movie is obviously al...   \n",
       "1           1  Ex Machina  Extraordinary and thought-provoking.\\n'Ex mach...   \n",
       "2           2  Ex Machina  Poor story, only reasonable otherwise.\\nIf I h...   \n",
       "3           3  Ex Machina  Had Great Potential.\\nThis movie is one of the...   \n",
       "4           4    Eternals  Amazing visuals and philosophical concepts!\\n\\...   \n",
       "5           5    Eternals  Worst MCU film ever\\n\\nFollowing the events of...   \n",
       "\n",
       "   IMDb Rating  \n",
       "0            9  \n",
       "1           10  \n",
       "2            3  \n",
       "3            1  \n",
       "4           10  \n",
       "5            3  "
      ]
     },
     "execution_count": 54,
     "metadata": {},
     "output_type": "execute_result"
    }
   ],
   "source": [
    "# Load sample IMDb reviews csv, having ~6 movie reviews, along with their IMDb rating\n",
    "\n",
    "sample_reviews = pd.read_csv(\"a3_IMDb_Unseen_Reviews.csv\")\n",
    "\n",
    "sample_reviews.head(6)"
   ]
  },
  {
   "cell_type": "code",
   "execution_count": 55,
   "metadata": {
    "id": "aiXGG5k9VLVv"
   },
   "outputs": [],
   "source": [
    "# Preprocess review text with earlier defined preprocess_text function\n",
    "\n",
    "unseen_reviews = sample_reviews['Review Text']\n",
    "\n",
    "unseen_processed = []\n",
    "for review in unseen_reviews:\n",
    "  review = custom.preprocess_text(review)\n",
    "  unseen_processed.append(review)"
   ]
  },
  {
   "cell_type": "code",
   "execution_count": 56,
   "metadata": {},
   "outputs": [
    {
     "data": {
      "text/plain": [
       "['intelligent movie movie obviously allegorical fascinating tale ai mainly manipulation power wanting action spectacular cgi movie aimed people like think rather passively wait entertained themes ai also surveillance excellent points data us collected phone companies search engine companies commercial operating systems makers plot seems simple extremely clever protagonist playing games trying stay one step ahead one another movie perfectly consistent internal logic plays perfectly go expecting much however see people satisfied movie sets brilliantly therefore give least recent movies getting movie succeeds another recent movie ai transcendence think called failed interesting failure third movie ai spanish movie called eva also brilliant eva moving movie philosophical movies perfect different ways ai name movie ava seems nod title spanish movie aside nice stars appeared ex machina eva casting great course several aspects movie unrealistic often absurd allegorical movie acceptable movie making points rather striving realism fairytale accurate portrayal ',\n",
       " 'extraordinary thought provoking ex machina surprisingly dense titles alex garland written perhaps excepting annihilation simple concept given definite narrative narrative pointedly explores nature thought perception broaching nature ramifications morality psychological thriller fundamental construction minute rendering alike intense feature genre name offhand much almost classify horror movie emphasizes plays dire uncertainty intent motivation reality way climax even leaves us somewhat ambiguous ending ordinary beginning captivating ending every point ex machina absolutely marvelous performance seen oscar isaac none nearly forceful portrayal nathan exhibiting outstanding nuance sharp personality realization man exceptionally intelligent exceptionally cruel conniving especially familiar domhnall gleeson irish actor demonstrates admirable range poise readily matching traits immediately notable costars said certainly count anyone else involved alicia vikander phenomenal ava showing careful exactness every motion expression befitting character impressing skills subtle ways love score composed ben salisbury geoff barrow lending pensive unease film building great crescendo precise appropriate moments sound design exquisite soft unobtrusive qualities denoting meticulous craft feature highly advanced status ava special effects read little bit production history informs substantial effort made ensure every element nathan creation visualized utmost possibility realism think endeavor paid handsomely characters written wonderfully complex dialogue deceptively garland scene writing impeccable deeply engrossing say nothing overall narrative delves heavy subject matter even aware acclaim feature garnered since release wholly sure expect sat watch got far exceeded anything imagined mostly stepping away significantly common story ideas populate sci fi films artificial intelligence garland screenplay analyzes consciousness depth completeness potency anticipated genre picture result terrifically engaging exhilarating factor sound performances excellent music ex machina firmly first rate slice science fiction call must see ',\n",
       " 'poor story reasonable otherwise realised alex garland would bothered watching remember reading book beach years ago thinking something nice time sure seen ex machina feeling story chosen simply appeal large audience rather manipulative unthinking unfeeling way normally write bad reviews anything preferring focus positive dislike felt write something put people wasting time assimilating nastiness case ex machina imagine garland wondering would next project googling ai quickly finding ai box experiment rather heart soul searching work would necessary produce anything original imagine quickly turning somebody else idea next big proposal present film studio unoriginal idea presented fairly pedestrian way lots images derived young person view sexuality made also wonder film rather prejudiced women reasonably paced found yawning lot quite would expect good thriller domhnall gleeson ok pretty good job ',\n",
       " 'great potential movie one countless come hollywood great potential however like many personalities hollywood sold soul cheap finish beautiful ideas movie could great however producers chose go cheap thriller effect instead exploring truly makes us human machine conceived written produced idiots soul waste time redeeming part movie dweeb gets sent sticks surprised smartphone tell signal producers writers piece crap obviously signal also ',\n",
       " 'amazing visuals philosophical concepts eternals visual masterpiece inner challenges eternals face great signifier mcu moving mature meaningful phase look deeper plot events significance appreciate detail put timeline spans thousands years low underwhelming ratings seem obviously place despite fact many people loved mcu couple buff guys sexualised women transition mcu going inevitable franchise supported generations quite frankly awesome besides stunning visuals deep undertones chloe zhao certainly packs enough fight scenes possibly needed eternal represents unique power connected source cosmic energy variability allows exhilarating fight scenes arguably interesting couple punches kicks stray flying weapon love stories quaint meaningful certainly take much run time overall new age maturity deeper concepts seen movie definitely something look forward phase ',\n",
       " 'worst mcu film ever following events avengers endgame unexpected tragedy forces eternals ancient aliens living earth secret thousands years shadows reunite mankind ancient enemy deviants film far worst mcu film watch massive insuylt comics jack kirby days gender swapping eternals bad story telling makes absolutely sense unlikeable characters little action ridicules changes mcu sum bad film completely ruined endgame goods music cgi arishen well bonus points voiced david kaye good movie makes captain marvel iron man look good ']"
      ]
     },
     "execution_count": 56,
     "metadata": {},
     "output_type": "execute_result"
    }
   ],
   "source": [
    "unseen_processed"
   ]
  },
  {
   "cell_type": "code",
   "execution_count": 57,
   "metadata": {},
   "outputs": [],
   "source": [
    "from keras_preprocessing.text import tokenizer_from_json"
   ]
  },
  {
   "cell_type": "code",
   "execution_count": 58,
   "metadata": {},
   "outputs": [],
   "source": [
    "# Loading\n",
    "with open('b3_tokenizer.json') as f:\n",
    "    data = json.load(f)\n",
    "    loaded_tokenizer = tokenizer_from_json(data)"
   ]
  },
  {
   "cell_type": "code",
   "execution_count": 59,
   "metadata": {
    "id": "A8Ln84UfVZhz"
   },
   "outputs": [],
   "source": [
    "# Tokenising instance with earlier trained tokeniser\n",
    "unseen_tokenized = loaded_tokenizer.texts_to_sequences(unseen_processed)"
   ]
  },
  {
   "cell_type": "code",
   "execution_count": 60,
   "metadata": {},
   "outputs": [
    {
     "data": {
      "text/plain": [
       "[[925,\n",
       "  1,\n",
       "  1,\n",
       "  400,\n",
       "  14420,\n",
       "  1289,\n",
       "  627,\n",
       "  14035,\n",
       "  1266,\n",
       "  7357,\n",
       "  511,\n",
       "  1524,\n",
       "  97,\n",
       "  1863,\n",
       "  1370,\n",
       "  1,\n",
       "  3416,\n",
       "  16,\n",
       "  4,\n",
       "  25,\n",
       "  140,\n",
       "  20211,\n",
       "  716,\n",
       "  2161,\n",
       "  1270,\n",
       "  14035,\n",
       "  18,\n",
       "  12177,\n",
       "  199,\n",
       "  659,\n",
       "  9047,\n",
       "  76,\n",
       "  9587,\n",
       "  1378,\n",
       "  4780,\n",
       "  1464,\n",
       "  6932,\n",
       "  4780,\n",
       "  2013,\n",
       "  7929,\n",
       "  7741,\n",
       "  1034,\n",
       "  33,\n",
       "  83,\n",
       "  463,\n",
       "  435,\n",
       "  879,\n",
       "  1740,\n",
       "  282,\n",
       "  1469,\n",
       "  150,\n",
       "  626,\n",
       "  3,\n",
       "  1434,\n",
       "  1291,\n",
       "  3,\n",
       "  62,\n",
       "  1,\n",
       "  806,\n",
       "  4114,\n",
       "  5415,\n",
       "  1989,\n",
       "  191,\n",
       "  806,\n",
       "  51,\n",
       "  854,\n",
       "  13,\n",
       "  88,\n",
       "  11,\n",
       "  16,\n",
       "  4012,\n",
       "  1,\n",
       "  589,\n",
       "  1958,\n",
       "  1398,\n",
       "  93,\n",
       "  113,\n",
       "  1014,\n",
       "  24,\n",
       "  270,\n",
       "  1,\n",
       "  2759,\n",
       "  62,\n",
       "  1014,\n",
       "  1,\n",
       "  14035,\n",
       "  25602,\n",
       "  25,\n",
       "  315,\n",
       "  1064,\n",
       "  115,\n",
       "  1852,\n",
       "  736,\n",
       "  1,\n",
       "  14035,\n",
       "  1776,\n",
       "  1,\n",
       "  315,\n",
       "  3822,\n",
       "  18,\n",
       "  383,\n",
       "  3822,\n",
       "  569,\n",
       "  1,\n",
       "  4051,\n",
       "  24,\n",
       "  284,\n",
       "  164,\n",
       "  624,\n",
       "  14035,\n",
       "  261,\n",
       "  1,\n",
       "  12806,\n",
       "  83,\n",
       "  5440,\n",
       "  294,\n",
       "  1776,\n",
       "  1,\n",
       "  1011,\n",
       "  213,\n",
       "  278,\n",
       "  1374,\n",
       "  1040,\n",
       "  14943,\n",
       "  3822,\n",
       "  897,\n",
       "  17,\n",
       "  151,\n",
       "  312,\n",
       "  1264,\n",
       "  1,\n",
       "  1928,\n",
       "  285,\n",
       "  1602,\n",
       "  14420,\n",
       "  1,\n",
       "  3172,\n",
       "  1,\n",
       "  122,\n",
       "  659,\n",
       "  140,\n",
       "  13082,\n",
       "  1645,\n",
       "  10209,\n",
       "  1615,\n",
       "  937],\n",
       " [2273,\n",
       "  87,\n",
       "  2421,\n",
       "  1040,\n",
       "  14943,\n",
       "  1090,\n",
       "  10378,\n",
       "  2494,\n",
       "  1850,\n",
       "  5915,\n",
       "  281,\n",
       "  262,\n",
       "  23889,\n",
       "  22535,\n",
       "  463,\n",
       "  978,\n",
       "  238,\n",
       "  3479,\n",
       "  1189,\n",
       "  1189,\n",
       "  25409,\n",
       "  5280,\n",
       "  743,\n",
       "  87,\n",
       "  6325,\n",
       "  86112,\n",
       "  743,\n",
       "  17802,\n",
       "  3702,\n",
       "  1842,\n",
       "  556,\n",
       "  8178,\n",
       "  4576,\n",
       "  643,\n",
       "  7060,\n",
       "  3071,\n",
       "  1350,\n",
       "  636,\n",
       "  382,\n",
       "  261,\n",
       "  23467,\n",
       "  13,\n",
       "  108,\n",
       "  13083,\n",
       "  80,\n",
       "  1,\n",
       "  17003,\n",
       "  191,\n",
       "  3809,\n",
       "  10219,\n",
       "  3303,\n",
       "  3133,\n",
       "  491,\n",
       "  23,\n",
       "  1204,\n",
       "  7,\n",
       "  750,\n",
       "  76,\n",
       "  528,\n",
       "  5081,\n",
       "  154,\n",
       "  1698,\n",
       "  328,\n",
       "  3928,\n",
       "  154,\n",
       "  72,\n",
       "  109,\n",
       "  1040,\n",
       "  14943,\n",
       "  301,\n",
       "  3082,\n",
       "  129,\n",
       "  30,\n",
       "  664,\n",
       "  13617,\n",
       "  486,\n",
       "  649,\n",
       "  18339,\n",
       "  937,\n",
       "  6730,\n",
       "  21297,\n",
       "  1227,\n",
       "  8614,\n",
       "  2196,\n",
       "  1478,\n",
       "  5756,\n",
       "  43,\n",
       "  4741,\n",
       "  925,\n",
       "  4741,\n",
       "  2210,\n",
       "  8766,\n",
       "  149,\n",
       "  919,\n",
       "  22318,\n",
       "  2374,\n",
       "  168,\n",
       "  5072,\n",
       "  5765,\n",
       "  1858,\n",
       "  27237,\n",
       "  7227,\n",
       "  9940,\n",
       "  5611,\n",
       "  1049,\n",
       "  2761,\n",
       "  24288,\n",
       "  190,\n",
       "  298,\n",
       "  1332,\n",
       "  136,\n",
       "  209,\n",
       "  442,\n",
       "  7891,\n",
       "  5671,\n",
       "  12806,\n",
       "  623,\n",
       "  3996,\n",
       "  72,\n",
       "  1149,\n",
       "  2443,\n",
       "  19362,\n",
       "  28,\n",
       "  14513,\n",
       "  1884,\n",
       "  1125,\n",
       "  624,\n",
       "  35,\n",
       "  428,\n",
       "  3948,\n",
       "  1021,\n",
       "  44870,\n",
       "  19793,\n",
       "  42677,\n",
       "  17382,\n",
       "  19255,\n",
       "  14277,\n",
       "  2,\n",
       "  1179,\n",
       "  17,\n",
       "  21253,\n",
       "  7001,\n",
       "  2208,\n",
       "  265,\n",
       "  313,\n",
       "  1523,\n",
       "  5769,\n",
       "  1550,\n",
       "  17006,\n",
       "  2140,\n",
       "  74545,\n",
       "  13878,\n",
       "  3575,\n",
       "  636,\n",
       "  405,\n",
       "  4808,\n",
       "  2521,\n",
       "  12806,\n",
       "  184,\n",
       "  167,\n",
       "  220,\n",
       "  41,\n",
       "  121,\n",
       "  234,\n",
       "  352,\n",
       "  8844,\n",
       "  6752,\n",
       "  630,\n",
       "  20,\n",
       "  6507,\n",
       "  72,\n",
       "  1400,\n",
       "  6730,\n",
       "  2885,\n",
       "  24074,\n",
       "  10547,\n",
       "  3633,\n",
       "  1645,\n",
       "  25,\n",
       "  11701,\n",
       "  1335,\n",
       "  19425,\n",
       "  26,\n",
       "  281,\n",
       "  1574,\n",
       "  1143,\n",
       "  288,\n",
       "  13706,\n",
       "  5915,\n",
       "  46,\n",
       "  356,\n",
       "  7483,\n",
       "  1594,\n",
       "  5291,\n",
       "  48,\n",
       "  66,\n",
       "  322,\n",
       "  1189,\n",
       "  10076,\n",
       "  1121,\n",
       "  609,\n",
       "  365,\n",
       "  7,\n",
       "  1710,\n",
       "  8422,\n",
       "  636,\n",
       "  9825,\n",
       "  125,\n",
       "  604,\n",
       "  5314,\n",
       "  139,\n",
       "  387,\n",
       "  1623,\n",
       "  27,\n",
       "  86,\n",
       "  116,\n",
       "  10174,\n",
       "  123,\n",
       "  3709,\n",
       "  539,\n",
       "  8938,\n",
       "  130,\n",
       "  8072,\n",
       "  958,\n",
       "  9,\n",
       "  863,\n",
       "  13650,\n",
       "  699,\n",
       "  692,\n",
       "  29,\n",
       "  4716,\n",
       "  1583,\n",
       "  5915,\n",
       "  771,\n",
       "  33051,\n",
       "  5853,\n",
       "  968,\n",
       "  30802,\n",
       "  27471,\n",
       "  7237,\n",
       "  382,\n",
       "  314,\n",
       "  792,\n",
       "  13216,\n",
       "  1622,\n",
       "  10662,\n",
       "  2044,\n",
       "  313,\n",
       "  244,\n",
       "  199,\n",
       "  100,\n",
       "  1040,\n",
       "  14943,\n",
       "  5245,\n",
       "  19,\n",
       "  808,\n",
       "  4902,\n",
       "  922,\n",
       "  1023,\n",
       "  522,\n",
       "  96,\n",
       "  11],\n",
       " [216,\n",
       "  9,\n",
       "  3439,\n",
       "  760,\n",
       "  5000,\n",
       "  1850,\n",
       "  5915,\n",
       "  8,\n",
       "  2324,\n",
       "  54,\n",
       "  269,\n",
       "  748,\n",
       "  161,\n",
       "  2006,\n",
       "  58,\n",
       "  464,\n",
       "  404,\n",
       "  50,\n",
       "  213,\n",
       "  6,\n",
       "  139,\n",
       "  30,\n",
       "  1040,\n",
       "  14943,\n",
       "  423,\n",
       "  9,\n",
       "  2163,\n",
       "  217,\n",
       "  1163,\n",
       "  871,\n",
       "  185,\n",
       "  140,\n",
       "  4927,\n",
       "  23860,\n",
       "  21803,\n",
       "  23,\n",
       "  1708,\n",
       "  747,\n",
       "  14,\n",
       "  674,\n",
       "  123,\n",
       "  15304,\n",
       "  971,\n",
       "  992,\n",
       "  2918,\n",
       "  321,\n",
       "  747,\n",
       "  50,\n",
       "  155,\n",
       "  16,\n",
       "  2970,\n",
       "  6,\n",
       "  40801,\n",
       "  15273,\n",
       "  290,\n",
       "  1040,\n",
       "  14943,\n",
       "  679,\n",
       "  5915,\n",
       "  1357,\n",
       "  8,\n",
       "  246,\n",
       "  974,\n",
       "  87904,\n",
       "  14035,\n",
       "  774,\n",
       "  1273,\n",
       "  14035,\n",
       "  714,\n",
       "  2705,\n",
       "  140,\n",
       "  354,\n",
       "  1116,\n",
       "  2975,\n",
       "  64,\n",
       "  8,\n",
       "  1570,\n",
       "  2154,\n",
       "  123,\n",
       "  102,\n",
       "  679,\n",
       "  774,\n",
       "  1433,\n",
       "  1566,\n",
       "  209,\n",
       "  206,\n",
       "  246,\n",
       "  89,\n",
       "  10042,\n",
       "  826,\n",
       "  2,\n",
       "  988,\n",
       "  4236,\n",
       "  206,\n",
       "  1207,\n",
       "  841,\n",
       "  6386,\n",
       "  23,\n",
       "  595,\n",
       "  990,\n",
       "  7531,\n",
       "  84,\n",
       "  266,\n",
       "  490,\n",
       "  2787,\n",
       "  20,\n",
       "  18,\n",
       "  440,\n",
       "  2,\n",
       "  140,\n",
       "  14257,\n",
       "  250,\n",
       "  3490,\n",
       "  1617,\n",
       "  142,\n",
       "  15331,\n",
       "  70,\n",
       "  78,\n",
       "  8,\n",
       "  387,\n",
       "  5,\n",
       "  556,\n",
       "  22318,\n",
       "  430,\n",
       "  81,\n",
       "  5,\n",
       "  181],\n",
       " [17,\n",
       "  865,\n",
       "  1,\n",
       "  3,\n",
       "  3505,\n",
       "  107,\n",
       "  233,\n",
       "  17,\n",
       "  865,\n",
       "  88,\n",
       "  4,\n",
       "  32,\n",
       "  3110,\n",
       "  233,\n",
       "  2747,\n",
       "  1116,\n",
       "  560,\n",
       "  1213,\n",
       "  197,\n",
       "  863,\n",
       "  1,\n",
       "  22,\n",
       "  17,\n",
       "  88,\n",
       "  994,\n",
       "  2260,\n",
       "  51,\n",
       "  560,\n",
       "  556,\n",
       "  769,\n",
       "  186,\n",
       "  5178,\n",
       "  249,\n",
       "  65,\n",
       "  76,\n",
       "  271,\n",
       "  1362,\n",
       "  3760,\n",
       "  281,\n",
       "  864,\n",
       "  3473,\n",
       "  1116,\n",
       "  325,\n",
       "  6,\n",
       "  1521,\n",
       "  73,\n",
       "  1,\n",
       "  25815,\n",
       "  111,\n",
       "  1232,\n",
       "  3604,\n",
       "  621,\n",
       "  254,\n",
       "  11284,\n",
       "  994,\n",
       "  800,\n",
       "  292,\n",
       "  444,\n",
       "  400,\n",
       "  11284,\n",
       "  18],\n",
       " [367,\n",
       "  1849,\n",
       "  4051,\n",
       "  5073,\n",
       "  920,\n",
       "  770,\n",
       "  2420,\n",
       "  5456,\n",
       "  273,\n",
       "  17,\n",
       "  569,\n",
       "  2442,\n",
       "  2980,\n",
       "  6581,\n",
       "  67,\n",
       "  2588,\n",
       "  33,\n",
       "  565,\n",
       "  5002,\n",
       "  957,\n",
       "  1383,\n",
       "  155,\n",
       "  12767,\n",
       "  13429,\n",
       "  2801,\n",
       "  58,\n",
       "  240,\n",
       "  11151,\n",
       "  2591,\n",
       "  195,\n",
       "  400,\n",
       "  159,\n",
       "  341,\n",
       "  91,\n",
       "  32,\n",
       "  16,\n",
       "  304,\n",
       "  251,\n",
       "  3927,\n",
       "  319,\n",
       "  77793,\n",
       "  250,\n",
       "  4830,\n",
       "  68,\n",
       "  3393,\n",
       "  2861,\n",
       "  5569,\n",
       "  5097,\n",
       "  78,\n",
       "  1854,\n",
       "  998,\n",
       "  1196,\n",
       "  1251,\n",
       "  1849,\n",
       "  693,\n",
       "  10473,\n",
       "  8430,\n",
       "  24746,\n",
       "  298,\n",
       "  6774,\n",
       "  92,\n",
       "  421,\n",
       "  49,\n",
       "  758,\n",
       "  741,\n",
       "  5559,\n",
       "  3527,\n",
       "  798,\n",
       "  511,\n",
       "  3159,\n",
       "  2214,\n",
       "  12475,\n",
       "  1535,\n",
       "  1993,\n",
       "  10662,\n",
       "  421,\n",
       "  49,\n",
       "  4423,\n",
       "  115,\n",
       "  251,\n",
       "  5674,\n",
       "  3143,\n",
       "  10297,\n",
       "  1514,\n",
       "  2929,\n",
       "  35,\n",
       "  433,\n",
       "  10066,\n",
       "  2980,\n",
       "  298,\n",
       "  85,\n",
       "  13,\n",
       "  364,\n",
       "  6,\n",
       "  322,\n",
       "  71,\n",
       "  436,\n",
       "  8603,\n",
       "  2588,\n",
       "  5073,\n",
       "  30,\n",
       "  1,\n",
       "  283,\n",
       "  50,\n",
       "  67,\n",
       "  763,\n",
       "  6581],\n",
       " [133,\n",
       "  2,\n",
       "  42,\n",
       "  794,\n",
       "  565,\n",
       "  15155,\n",
       "  28863,\n",
       "  1915,\n",
       "  1448,\n",
       "  1711,\n",
       "  2066,\n",
       "  1759,\n",
       "  447,\n",
       "  561,\n",
       "  840,\n",
       "  2801,\n",
       "  58,\n",
       "  3047,\n",
       "  8281,\n",
       "  4115,\n",
       "  2066,\n",
       "  1949,\n",
       "  32617,\n",
       "  2,\n",
       "  116,\n",
       "  133,\n",
       "  2,\n",
       "  27,\n",
       "  2371,\n",
       "  3603,\n",
       "  523,\n",
       "  23450,\n",
       "  350,\n",
       "  4973,\n",
       "  17597,\n",
       "  14,\n",
       "  9,\n",
       "  838,\n",
       "  65,\n",
       "  301,\n",
       "  169,\n",
       "  5183,\n",
       "  26,\n",
       "  41,\n",
       "  97,\n",
       "  13936,\n",
       "  1159,\n",
       "  2772,\n",
       "  14,\n",
       "  2,\n",
       "  219,\n",
       "  2230,\n",
       "  28863,\n",
       "  6241,\n",
       "  100,\n",
       "  1370,\n",
       "  12,\n",
       "  4185,\n",
       "  659,\n",
       "  4089,\n",
       "  466,\n",
       "  12639,\n",
       "  5,\n",
       "  1,\n",
       "  65,\n",
       "  1431,\n",
       "  5475,\n",
       "  3833,\n",
       "  43,\n",
       "  67,\n",
       "  5]]"
      ]
     },
     "execution_count": 60,
     "metadata": {},
     "output_type": "execute_result"
    }
   ],
   "source": [
    "unseen_tokenized"
   ]
  },
  {
   "cell_type": "code",
   "execution_count": 61,
   "metadata": {},
   "outputs": [],
   "source": [
    "# Pooling instance to have maxlength of 100 tokens\n",
    "unseen_padded = pad_sequences(unseen_tokenized, padding='post', maxlen=100)"
   ]
  },
  {
   "cell_type": "code",
   "execution_count": 62,
   "metadata": {},
   "outputs": [
    {
     "data": {
      "text/plain": [
       "array([[  879,  1740,   282,  1469,   150,   626,     3,  1434,  1291,\n",
       "            3,    62,     1,   806,  4114,  5415,  1989,   191,   806,\n",
       "           51,   854,    13,    88,    11,    16,  4012,     1,   589,\n",
       "         1958,  1398,    93,   113,  1014,    24,   270,     1,  2759,\n",
       "           62,  1014,     1, 14035, 25602,    25,   315,  1064,   115,\n",
       "         1852,   736,     1, 14035,  1776,     1,   315,  3822,    18,\n",
       "          383,  3822,   569,     1,  4051,    24,   284,   164,   624,\n",
       "        14035,   261,     1, 12806,    83,  5440,   294,  1776,     1,\n",
       "         1011,   213,   278,  1374,  1040, 14943,  3822,   897,    17,\n",
       "          151,   312,  1264,     1,  1928,   285,  1602, 14420,     1,\n",
       "         3172,     1,   122,   659,   140, 13082,  1645, 10209,  1615,\n",
       "          937],\n",
       "       [  121,   234,   352,  8844,  6752,   630,    20,  6507,    72,\n",
       "         1400,  6730,  2885, 24074, 10547,  3633,  1645,    25, 11701,\n",
       "         1335, 19425,    26,   281,  1574,  1143,   288, 13706,  5915,\n",
       "           46,   356,  7483,  1594,  5291,    48,    66,   322,  1189,\n",
       "        10076,  1121,   609,   365,     7,  1710,  8422,   636,  9825,\n",
       "          125,   604,  5314,   139,   387,  1623,    27,    86,   116,\n",
       "        10174,   123,  3709,   539,  8938,   130,  8072,   958,     9,\n",
       "          863, 13650,   699,   692,    29,  4716,  1583,  5915,   771,\n",
       "        33051,  5853,   968, 30802, 27471,  7237,   382,   314,   792,\n",
       "        13216,  1622, 10662,  2044,   313,   244,   199,   100,  1040,\n",
       "        14943,  5245,    19,   808,  4902,   922,  1023,   522,    96,\n",
       "           11],\n",
       "       [  217,  1163,   871,   185,   140,  4927, 23860, 21803,    23,\n",
       "         1708,   747,    14,   674,   123, 15304,   971,   992,  2918,\n",
       "          321,   747,    50,   155,    16,  2970,     6, 40801, 15273,\n",
       "          290,  1040, 14943,   679,  5915,  1357,     8,   246,   974,\n",
       "        87904, 14035,   774,  1273, 14035,   714,  2705,   140,   354,\n",
       "         1116,  2975,    64,     8,  1570,  2154,   123,   102,   679,\n",
       "          774,  1433,  1566,   209,   206,   246,    89, 10042,   826,\n",
       "            2,   988,  4236,   206,  1207,   841,  6386,    23,   595,\n",
       "          990,  7531,    84,   266,   490,  2787,    20,    18,   440,\n",
       "            2,   140, 14257,   250,  3490,  1617,   142, 15331,    70,\n",
       "           78,     8,   387,     5,   556, 22318,   430,    81,     5,\n",
       "          181],\n",
       "       [   17,   865,     1,     3,  3505,   107,   233,    17,   865,\n",
       "           88,     4,    32,  3110,   233,  2747,  1116,   560,  1213,\n",
       "          197,   863,     1,    22,    17,    88,   994,  2260,    51,\n",
       "          560,   556,   769,   186,  5178,   249,    65,    76,   271,\n",
       "         1362,  3760,   281,   864,  3473,  1116,   325,     6,  1521,\n",
       "           73,     1, 25815,   111,  1232,  3604,   621,   254, 11284,\n",
       "          994,   800,   292,   444,   400, 11284,    18,     0,     0,\n",
       "            0,     0,     0,     0,     0,     0,     0,     0,     0,\n",
       "            0,     0,     0,     0,     0,     0,     0,     0,     0,\n",
       "            0,     0,     0,     0,     0,     0,     0,     0,     0,\n",
       "            0,     0,     0,     0,     0,     0,     0,     0,     0,\n",
       "            0],\n",
       "       [ 5456,   273,    17,   569,  2442,  2980,  6581,    67,  2588,\n",
       "           33,   565,  5002,   957,  1383,   155, 12767, 13429,  2801,\n",
       "           58,   240, 11151,  2591,   195,   400,   159,   341,    91,\n",
       "           32,    16,   304,   251,  3927,   319, 77793,   250,  4830,\n",
       "           68,  3393,  2861,  5569,  5097,    78,  1854,   998,  1196,\n",
       "         1251,  1849,   693, 10473,  8430, 24746,   298,  6774,    92,\n",
       "          421,    49,   758,   741,  5559,  3527,   798,   511,  3159,\n",
       "         2214, 12475,  1535,  1993, 10662,   421,    49,  4423,   115,\n",
       "          251,  5674,  3143, 10297,  1514,  2929,    35,   433, 10066,\n",
       "         2980,   298,    85,    13,   364,     6,   322,    71,   436,\n",
       "         8603,  2588,  5073,    30,     1,   283,    50,    67,   763,\n",
       "         6581],\n",
       "       [  133,     2,    42,   794,   565, 15155, 28863,  1915,  1448,\n",
       "         1711,  2066,  1759,   447,   561,   840,  2801,    58,  3047,\n",
       "         8281,  4115,  2066,  1949, 32617,     2,   116,   133,     2,\n",
       "           27,  2371,  3603,   523, 23450,   350,  4973, 17597,    14,\n",
       "            9,   838,    65,   301,   169,  5183,    26,    41,    97,\n",
       "        13936,  1159,  2772,    14,     2,   219,  2230, 28863,  6241,\n",
       "          100,  1370,    12,  4185,   659,  4089,   466, 12639,     5,\n",
       "            1,    65,  1431,  5475,  3833,    43,    67,     5,     0,\n",
       "            0,     0,     0,     0,     0,     0,     0,     0,     0,\n",
       "            0,     0,     0,     0,     0,     0,     0,     0,     0,\n",
       "            0,     0,     0,     0,     0,     0,     0,     0,     0,\n",
       "            0]])"
      ]
     },
     "execution_count": 62,
     "metadata": {},
     "output_type": "execute_result"
    }
   ],
   "source": [
    "unseen_padded"
   ]
  },
  {
   "cell_type": "code",
   "execution_count": 63,
   "metadata": {
    "colab": {
     "base_uri": "https://localhost:8080/"
    },
    "executionInfo": {
     "elapsed": 1414,
     "status": "ok",
     "timestamp": 1658856288539,
     "user": {
      "displayName": "Skillcate Education",
      "userId": "11062674699417926870"
     },
     "user_tz": -330
    },
    "id": "4bh5LsCZhy7r",
    "outputId": "87d6340e-29bd-414c-d3cc-f04578af1783"
   },
   "outputs": [
    {
     "name": "stdout",
     "output_type": "stream",
     "text": [
      "1/1 [==============================] - 0s 316ms/step\n"
     ]
    },
    {
     "data": {
      "text/plain": [
       "array([[0.8834934 ],\n",
       "       [0.99290115],\n",
       "       [0.31473464],\n",
       "       [0.27548054],\n",
       "       [0.97470117],\n",
       "       [0.04180601]], dtype=float32)"
      ]
     },
     "execution_count": 63,
     "metadata": {},
     "output_type": "execute_result"
    }
   ],
   "source": [
    "# Passing tokenised instance to the LSTM model for predictions\n",
    "unseen_sentiments = pretrained_lstm_model.predict(unseen_padded)\n",
    "\n",
    "unseen_sentiments"
   ]
  },
  {
   "cell_type": "code",
   "execution_count": 64,
   "metadata": {
    "colab": {
     "base_uri": "https://localhost:8080/",
     "height": 238
    },
    "executionInfo": {
     "elapsed": 557,
     "status": "ok",
     "timestamp": 1658856300683,
     "user": {
      "displayName": "Skillcate Education",
      "userId": "11062674699417926870"
     },
     "user_tz": -330
    },
    "id": "b6W2OOeupUX8",
    "outputId": "0dcbd641-4639-4cf9-983a-0df352451623"
   },
   "outputs": [
    {
     "data": {
      "text/html": [
       "<div>\n",
       "<style scoped>\n",
       "    .dataframe tbody tr th:only-of-type {\n",
       "        vertical-align: middle;\n",
       "    }\n",
       "\n",
       "    .dataframe tbody tr th {\n",
       "        vertical-align: top;\n",
       "    }\n",
       "\n",
       "    .dataframe thead th {\n",
       "        text-align: right;\n",
       "    }\n",
       "</style>\n",
       "<table border=\"1\" class=\"dataframe\">\n",
       "  <thead>\n",
       "    <tr style=\"text-align: right;\">\n",
       "      <th></th>\n",
       "      <th>Movie</th>\n",
       "      <th>Review Text</th>\n",
       "      <th>IMDb Rating</th>\n",
       "      <th>Predicted Sentiments</th>\n",
       "    </tr>\n",
       "  </thead>\n",
       "  <tbody>\n",
       "    <tr>\n",
       "      <th>0</th>\n",
       "      <td>Ex Machina</td>\n",
       "      <td>Intelligent Movie.\\nThis movie is obviously al...</td>\n",
       "      <td>9</td>\n",
       "      <td>8.8</td>\n",
       "    </tr>\n",
       "    <tr>\n",
       "      <th>1</th>\n",
       "      <td>Ex Machina</td>\n",
       "      <td>Extraordinary and thought-provoking.\\n'Ex mach...</td>\n",
       "      <td>10</td>\n",
       "      <td>9.9</td>\n",
       "    </tr>\n",
       "    <tr>\n",
       "      <th>2</th>\n",
       "      <td>Ex Machina</td>\n",
       "      <td>Poor story, only reasonable otherwise.\\nIf I h...</td>\n",
       "      <td>3</td>\n",
       "      <td>3.1</td>\n",
       "    </tr>\n",
       "    <tr>\n",
       "      <th>3</th>\n",
       "      <td>Ex Machina</td>\n",
       "      <td>Had Great Potential.\\nThis movie is one of the...</td>\n",
       "      <td>1</td>\n",
       "      <td>2.8</td>\n",
       "    </tr>\n",
       "    <tr>\n",
       "      <th>4</th>\n",
       "      <td>Eternals</td>\n",
       "      <td>Amazing visuals and philosophical concepts!\\n\\...</td>\n",
       "      <td>10</td>\n",
       "      <td>9.7</td>\n",
       "    </tr>\n",
       "    <tr>\n",
       "      <th>5</th>\n",
       "      <td>Eternals</td>\n",
       "      <td>Worst MCU film ever\\n\\nFollowing the events of...</td>\n",
       "      <td>3</td>\n",
       "      <td>0.4</td>\n",
       "    </tr>\n",
       "  </tbody>\n",
       "</table>\n",
       "</div>"
      ],
      "text/plain": [
       "        Movie                                        Review Text  IMDb Rating  \\\n",
       "0  Ex Machina  Intelligent Movie.\\nThis movie is obviously al...            9   \n",
       "1  Ex Machina  Extraordinary and thought-provoking.\\n'Ex mach...           10   \n",
       "2  Ex Machina  Poor story, only reasonable otherwise.\\nIf I h...            3   \n",
       "3  Ex Machina  Had Great Potential.\\nThis movie is one of the...            1   \n",
       "4    Eternals  Amazing visuals and philosophical concepts!\\n\\...           10   \n",
       "5    Eternals  Worst MCU film ever\\n\\nFollowing the events of...            3   \n",
       "\n",
       "   Predicted Sentiments  \n",
       "0                   8.8  \n",
       "1                   9.9  \n",
       "2                   3.1  \n",
       "3                   2.8  \n",
       "4                   9.7  \n",
       "5                   0.4  "
      ]
     },
     "execution_count": 64,
     "metadata": {},
     "output_type": "execute_result"
    }
   ],
   "source": [
    "# Writing model output file back to Google Drive\n",
    "\n",
    "sample_reviews['Predicted Sentiments'] = np.round(unseen_sentiments*10,1)\n",
    "\n",
    "df_prediction_sentiments = pd.DataFrame(sample_reviews['Predicted Sentiments'], columns = ['Predicted Sentiments'])\n",
    "df_movie                 = pd.DataFrame(sample_reviews['Movie'], columns = ['Movie'])\n",
    "df_review_text           = pd.DataFrame(sample_reviews['Review Text'], columns = ['Review Text'])\n",
    "df_imdb_rating           = pd.DataFrame(sample_reviews['IMDb Rating'], columns = ['IMDb Rating'])\n",
    "\n",
    "\n",
    "dfx=pd.concat([df_movie, df_review_text, df_imdb_rating, df_prediction_sentiments], axis=1)\n",
    "\n",
    "dfx.to_csv(\"c2_IMDb_Unseen_Predictions.csv\", sep=',', encoding='UTF-8')\n",
    "\n",
    "dfx.head(6)"
   ]
  },
  {
   "cell_type": "code",
   "execution_count": 65,
   "metadata": {},
   "outputs": [
    {
     "data": {
      "text/plain": [
       "array([[0.8834934 ],\n",
       "       [0.99290115],\n",
       "       [0.31473464],\n",
       "       [0.27548054],\n",
       "       [0.97470117],\n",
       "       [0.04180601]], dtype=float32)"
      ]
     },
     "execution_count": 65,
     "metadata": {},
     "output_type": "execute_result"
    }
   ],
   "source": [
    "unseen_sentiments"
   ]
  },
  {
   "cell_type": "code",
   "execution_count": 66,
   "metadata": {
    "scrolled": true
   },
   "outputs": [
    {
     "data": {
      "text/plain": [
       "0.8834934"
      ]
     },
     "execution_count": 66,
     "metadata": {},
     "output_type": "execute_result"
    }
   ],
   "source": [
    "unseen_sentiments[0][0]"
   ]
  },
  {
   "cell_type": "code",
   "execution_count": 67,
   "metadata": {},
   "outputs": [],
   "source": [
    "prediction_text= f\"Positive Review with probable IMDb rating as: {np.round(unseen_sentiments[0][0]*10,1)}\""
   ]
  },
  {
   "cell_type": "code",
   "execution_count": 68,
   "metadata": {},
   "outputs": [
    {
     "data": {
      "text/plain": [
       "'Positive Review with probable IMDb rating as: 8.8'"
      ]
     },
     "execution_count": 68,
     "metadata": {},
     "output_type": "execute_result"
    }
   ],
   "source": [
    "prediction_text"
   ]
  }
 ],
 "metadata": {
  "colab": {
   "authorship_tag": "ABX9TyM/OAkS+cdMFD5/+oQ1b+19",
   "collapsed_sections": [
    "EwZa81ThPbt3",
    "q6FO9rxjxHe_"
   ],
   "name": "b_SentimentAnalysis_with_NeuralNetwork.ipynb",
   "provenance": [],
   "toc_visible": true
  },
  "kernelspec": {
   "display_name": "Python 3 (ipykernel)",
   "language": "python",
   "name": "python3"
  },
  "language_info": {
   "codemirror_mode": {
    "name": "ipython",
    "version": 3
   },
   "file_extension": ".py",
   "mimetype": "text/x-python",
   "name": "python",
   "nbconvert_exporter": "python",
   "pygments_lexer": "ipython3",
   "version": "3.11.4"
  }
 },
 "nbformat": 4,
 "nbformat_minor": 4
}
